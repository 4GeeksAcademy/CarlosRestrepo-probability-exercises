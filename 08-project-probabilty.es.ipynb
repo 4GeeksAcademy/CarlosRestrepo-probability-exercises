{
 "cells": [
  {
   "cell_type": "markdown",
   "id": "a41f3622",
   "metadata": {},
   "source": [
    "# Ejercicios de probabilidad"
   ]
  },
  {
   "cell_type": "code",
   "execution_count": 1,
   "id": "a327a73d690229d3",
   "metadata": {},
   "outputs": [],
   "source": [
    "import numpy as np"
   ]
  },
  {
   "cell_type": "markdown",
   "id": "a6bdbd89",
   "metadata": {},
   "source": [
    "## Ejercicio 1 \n",
    "\n",
    "Dos dados se lanzan una vez y se observa el total obtenido. Usa una simulación para encontrar la probabilidad estimada de que la puntuación sea mayor a 7 o un número par. Una simulación es una repetición del mismo experimento multiples veces para observar su comportamiento:\n",
    "\n",
    "- Ejecuta el experimento 1000 veces (lanza 2 dados 1000 veces, y suma el número de ambos dados).\n",
    "- Lleva ua cuenta de los números y las veces que la suma fue mayor a 7 o un número par.\n",
    "- Divide el número del paso 2 entre el número de iteraciones(1000).\n",
    "- Escribe tus observaciones o conclusiones"
   ]
  },
  {
   "cell_type": "code",
   "execution_count": 2,
   "id": "8939d892",
   "metadata": {},
   "outputs": [
    {
     "data": {
      "text/plain": [
       "0.693"
      ]
     },
     "execution_count": 2,
     "metadata": {},
     "output_type": "execute_result"
    }
   ],
   "source": [
    "simulations = 1000\n",
    "registro = {'condicion': 0, 'otra':0}\n",
    "for i in range(simulations):\n",
    "    dado1 = np.random.randint(1, 7)\n",
    "    dado2 = np.random.randint(1, 7)\n",
    "    suma = dado1 + dado2\n",
    "    if suma > 7 or suma % 2 == 0:\n",
    "        registro['condicion'] += 1\n",
    "    else:\n",
    "        registro['otra'] +=1 \n",
    "registro\n",
    "\n",
    "division = registro['condicion'] / 1000\n",
    "division\n",
    "\n"
   ]
  },
  {
   "cell_type": "markdown",
   "id": "d987c9b1",
   "metadata": {},
   "source": [
    "En conclusion no es difícil que se pueda conseguir un numero mayor a 7 o un numero par."
   ]
  },
  {
   "cell_type": "markdown",
   "id": "55732bca",
   "metadata": {},
   "source": [
    "## Ejercicio 2\n",
    "\n",
    "Una caja contiene 10 bolas blancas, 20 bolas rojas y 30 bolas verdes. Si tomamos 5 bolas de la caja reemplazándolas (tomando una bola, anotando el color y luego regresandola a la caja). Queremos saber la probabilidad de:\n",
    "\n",
    "1. Tomar 3 blancas y 2 rojas.\n",
    "2. Toas todas del mismo color.\n",
    "\n",
    "- Ejecuta el experimento 1000 veces y calcula las probabilidades que mencionadas.\n",
    "- Escribe tus observaciones o conclusiones"
   ]
  },
  {
   "cell_type": "code",
   "execution_count": 12,
   "id": "23244d20",
   "metadata": {},
   "outputs": [],
   "source": [
    "ball_box = {}"
   ]
  },
  {
   "cell_type": "code",
   "execution_count": 13,
   "id": "3558ebfcce636f98",
   "metadata": {},
   "outputs": [],
   "source": [
    "# Desafío: dict comprehesion para generar en una sola línea.\n",
    "ball_box = {i: 'White' if i < 10 else 'Red' if i < 30 else 'Green' for i in range(60)}"
   ]
  },
  {
   "cell_type": "code",
   "execution_count": 14,
   "id": "614230a4546d75d4",
   "metadata": {},
   "outputs": [
    {
     "data": {
      "text/plain": [
       "{0: 'White',\n",
       " 1: 'White',\n",
       " 2: 'White',\n",
       " 3: 'White',\n",
       " 4: 'White',\n",
       " 5: 'White',\n",
       " 6: 'White',\n",
       " 7: 'White',\n",
       " 8: 'White',\n",
       " 9: 'White',\n",
       " 10: 'Red',\n",
       " 11: 'Red',\n",
       " 12: 'Red',\n",
       " 13: 'Red',\n",
       " 14: 'Red',\n",
       " 15: 'Red',\n",
       " 16: 'Red',\n",
       " 17: 'Red',\n",
       " 18: 'Red',\n",
       " 19: 'Red',\n",
       " 20: 'Red',\n",
       " 21: 'Red',\n",
       " 22: 'Red',\n",
       " 23: 'Red',\n",
       " 24: 'Red',\n",
       " 25: 'Red',\n",
       " 26: 'Red',\n",
       " 27: 'Red',\n",
       " 28: 'Red',\n",
       " 29: 'Red',\n",
       " 30: 'Green',\n",
       " 31: 'Green',\n",
       " 32: 'Green',\n",
       " 33: 'Green',\n",
       " 34: 'Green',\n",
       " 35: 'Green',\n",
       " 36: 'Green',\n",
       " 37: 'Green',\n",
       " 38: 'Green',\n",
       " 39: 'Green',\n",
       " 40: 'Green',\n",
       " 41: 'Green',\n",
       " 42: 'Green',\n",
       " 43: 'Green',\n",
       " 44: 'Green',\n",
       " 45: 'Green',\n",
       " 46: 'Green',\n",
       " 47: 'Green',\n",
       " 48: 'Green',\n",
       " 49: 'Green',\n",
       " 50: 'Green',\n",
       " 51: 'Green',\n",
       " 52: 'Green',\n",
       " 53: 'Green',\n",
       " 54: 'Green',\n",
       " 55: 'Green',\n",
       " 56: 'Green',\n",
       " 57: 'Green',\n",
       " 58: 'Green',\n",
       " 59: 'Green'}"
      ]
     },
     "execution_count": 14,
     "metadata": {},
     "output_type": "execute_result"
    }
   ],
   "source": [
    "# Crea las cajas con las bolas\n",
    "for i in range(60):\n",
    "    if i < 10:\n",
    "        ball_box[i] = \"White\"\n",
    "    elif (i > 9) and (i < 30):\n",
    "        ball_box[i] = \"Red\"\n",
    "    else:\n",
    "        ball_box[i] = \"Green\"\n",
    "\n",
    "ball_box"
   ]
  },
  {
   "cell_type": "code",
   "execution_count": 15,
   "id": "5e1198624a36edc1",
   "metadata": {},
   "outputs": [
    {
     "data": {
      "text/plain": [
       "(3, 37)"
      ]
     },
     "execution_count": 15,
     "metadata": {},
     "output_type": "execute_result"
    }
   ],
   "source": [
    "tres_blancas_dos_rojas = 0\n",
    "del_mismo_color = 0\n",
    "for _ in range(simulations):\n",
    "    # Con probabilidades correctas\n",
    "    escoger = np.random.choice(['White', 'Red', 'Green'], 5, p=[10/60, 20/60, 30/60])\n",
    "    if np.sum(escoger == 'White') == 3 and np.sum(escoger == 'Red') == 2:\n",
    "        tres_blancas_dos_rojas += 1\n",
    "    elif np.sum(escoger == 'White') == 5 or np.sum(escoger == 'Red') == 5 or np.sum(escoger == 'Green') == 5:\n",
    "        del_mismo_color += 1\n",
    "\n",
    "\n",
    "registro = tres_blancas_dos_rojas / 1000\n",
    "registro2 = del_mismo_color / 1000\n",
    "\n",
    "tres_blancas_dos_rojas, del_mismo_color\n"
   ]
  },
  {
   "cell_type": "markdown",
   "id": "c898778b",
   "metadata": {},
   "source": [
    "OBSERVACIÓN: \n",
    "> Es complicado coincidir con un numero exacto de blancas y rojas, la probabilidad de que esto pase es muy baja en comparacion a que todas sean del mismo color."
   ]
  }
 ],
 "metadata": {
  "kernelspec": {
   "display_name": "Python 3",
   "language": "python",
   "name": "python3"
  },
  "language_info": {
   "codemirror_mode": {
    "name": "ipython",
    "version": 3
   },
   "file_extension": ".py",
   "mimetype": "text/x-python",
   "name": "python",
   "nbconvert_exporter": "python",
   "pygments_lexer": "ipython3",
   "version": "3.11.4"
  }
 },
 "nbformat": 4,
 "nbformat_minor": 5
}
